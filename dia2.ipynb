{
 "cells": [
  {
   "metadata": {},
   "cell_type": "code",
   "outputs": [
    {
     "name": "stdout",
     "output_type": "stream",
     "text": [
      "Juguito nomas\n"
     ]
    }
   ],
   "execution_count": 11,
   "source": [
    "# Challenge (-20m) - Conditionals. Without \"AND, OR, NOT\":\n",
    "\n",
    "# Escribe un programa que pregunte al usuario por su edad y determine si tiene edad suficiente para comprar y consumir alcohol.\n",
    "# Si el usuario tiene mas de 18 pero menos de 21 impirmir \"Podes tomar pero no comprar\"\n",
    "# Si el usuario tiene menos de 18 imprimir \"Juguito nomas\"\n",
    "# Si el usuario tiene mas de 21 imprimir \"Hace lo que quieras\"\n",
    "\n",
    "edad = int(input(\"Que edad tenes?\"))\n",
    "\n",
    "if edad < 18:\n",
    "\tprint(\"Juguito nomas\")\n",
    "elif edad <= 21:\n",
    "\tprint(\"Podes tomar pero no comprar\")\n",
    "else:\n",
    "\tprint(\"Hace lo que quieras\")\n"
   ],
   "id": "7ec7994191c07cdb"
  },
  {
   "metadata": {
    "ExecuteTime": {
     "end_time": "2025-04-24T20:28:22.094116Z",
     "start_time": "2025-04-24T20:28:22.087453Z"
    }
   },
   "cell_type": "code",
   "source": "# Operadores de Comparacion: ==, >=, <, !=",
   "id": "8df822c21d99040a",
   "outputs": [],
   "execution_count": 112
  },
  {
   "metadata": {},
   "cell_type": "code",
   "outputs": [
    {
     "name": "stdout",
     "output_type": "stream",
     "text": [
      "Activa Laboralmente\n"
     ]
    }
   ],
   "execution_count": 22,
   "source": [
    "# Operadores Logicos: AND, OR, NOT.\n",
    "\n",
    "edad_persona = 64\n",
    "trabaja = True\n",
    "\n",
    "if edad_persona < 18:\n",
    "\tprint(\"Estudiante\")\n",
    "elif edad_persona < 65 and trabaja == True:\n",
    "\tprint(\"Activa Laboralmente\")\n",
    "elif edad_persona < 65 and trabaja == False:\n",
    "\tprint(\"Desempleado\")\n",
    "else:\n",
    "\tprint(\"Jubilado\")\n"
   ],
   "id": "fece2c407dcd6cba"
  },
  {
   "metadata": {},
   "cell_type": "code",
   "outputs": [
    {
     "name": "stdout",
     "output_type": "stream",
     "text": [
      "Activa Laboralmente\n"
     ]
    }
   ],
   "execution_count": 33,
   "source": [
    "# Operadores Logicos: AND, OR, NOT, with Function\n",
    "\n",
    "edad_persona = 43\n",
    "trabaja = True\n",
    "\t\n",
    "def chequear_edad(edad_laboral, con_trabajo):\n",
    "\tif edad_laboral < 18:\n",
    "\t\tprint(\"Estudiante\")\n",
    "\telif edad_laboral < 65 and con_trabajo == True:\n",
    "\t\tprint(\"Activa Laboralmente\")\n",
    "\telif edad_laboral < 65 and con_trabajo == False:\n",
    "\t\tprint(\"Desempleado\")\n",
    "\telse:\n",
    "\t\tprint(\"Jubilado\")\n",
    "\t\n",
    "chequear_edad(edad_persona, trabaja)\n",
    "# chequear_edad(30, True) # Another way.\n"
   ],
   "id": "e15681fb01ccc4c1"
  },
  {
   "metadata": {},
   "cell_type": "code",
   "outputs": [
    {
     "name": "stdout",
     "output_type": "stream",
     "text": [
      "Temperatura: 18 grados Celsius.\n",
      "Fresquete\n"
     ]
    }
   ],
   "execution_count": 48,
   "source": [
    "# Challenge (-30m):\n",
    "\n",
    "# Escribir un programa en el que se pregunte al usuario por una temperatura (en grados Celsius), imprima la temperatura escrita, y luego clasificar la temperatura ingresada en los siguientes niveles:\n",
    "# \n",
    "# Entre -10 y 18 grados, que imprima \"Fresquete\".\n",
    "# Entre 19 y 30 grados, que imprima \"Calor'i\".\n",
    "# Entre 31 y 45 grados, que imprima \"Hakuuuuuu\".\n",
    "# Para todo lo demás, imprimir \"Ñamano mba'e!\".\n",
    "\n",
    "temperatura = int(input(\"Cual es la temperatura en grados Celsius? \"))\n",
    "\n",
    "print(f\"Temperatura: {temperatura} grados Celsius.\")\n",
    "\n",
    "if temperatura >= -10 and temperatura <= 18:\n",
    "\tprint(\"Fresquete\")\n",
    "elif temperatura >= 19 and temperatura <= 30:\n",
    "\tprint(\"Calor'i\")\n",
    "elif temperatura >= 31 and temperatura <= 45:\n",
    "\tprint(\"Hakuuuuuu\")\n",
    "else:\n",
    "\tprint(\"Ñamano mba'e!\")\n"
   ],
   "id": "33af44b77ebf78f6"
  },
  {
   "metadata": {},
   "cell_type": "code",
   "outputs": [
    {
     "name": "stdout",
     "output_type": "stream",
     "text": [
      "5\n",
      "10\n"
     ]
    }
   ],
   "execution_count": 49,
   "source": [
    "# Bucle CONDICIONAL (es FINITO, ejecutara una condicion hasta que sea verdadera): While\n",
    "\n",
    "numero_a_adivinar = 10\n",
    "numero = 0\n",
    "\n",
    "while numero != numero_a_adivinar:\n",
    "\tnumero = int(input(\"Ingresar numero a adivinar\"))\n",
    "\tprint(numero)\n"
   ],
   "id": "fdc3ab9b4516dcec"
  },
  {
   "metadata": {},
   "cell_type": "code",
   "outputs": [
    {
     "name": "stdout",
     "output_type": "stream",
     "text": [
      "Numero incorrecto.\n",
      "Numero incorrecto.\n",
      "Numero incorrecto.\n",
      "El numero es correcto.\n"
     ]
    }
   ],
   "execution_count": 50,
   "source": [
    "# Otra Forma:\n",
    "\n",
    "numero_a_adivinar = 10\n",
    "numero = 0\n",
    "\n",
    "while True:\n",
    "\tnumero = int(input(\"Ingresar numero a adivinar\"))\n",
    "\tif numero == numero_a_adivinar:\n",
    "\t\tprint(\"El numero es correcto.\")\n",
    "\t\tbreak\n",
    "\telse:\n",
    "\t\tprint(\"Numero incorrecto.\")\n"
   ],
   "id": "ac5e4aaf8a8b7d18"
  },
  {
   "metadata": {},
   "cell_type": "code",
   "outputs": [
    {
     "name": "stdout",
     "output_type": "stream",
     "text": [
      "Contrasena incorrecta. Vuelve a intentar!\n",
      "Eres Carlos de Asuncion del Paraguay.\n"
     ]
    }
   ],
   "execution_count": 55,
   "source": [
    "# Challenge (-20m)\n",
    "\n",
    "# Escribir un programa que almacene una contraseña en una variable, y pregunte al usuario por la contraseña hasta que introduzca la contraseña correcta.\n",
    "# \n",
    "# Cuando el usuario ingrese la contrasena correcta, imprimir un mensaje secreto.\n",
    "\n",
    "contrasena = \"carlos123\"\n",
    "contrasena_consulta = \"\"\n",
    "\n",
    "while contrasena_consulta != contrasena:\n",
    "# while contrasena_consulta != \"carlos123\": # Otra forma.\n",
    "\tcontrasena_consulta = input(\"Cual es la contrasena?\")\n",
    "\tif contrasena_consulta == contrasena:\n",
    "\t\tprint(\"Eres Carlos de Asuncion del Paraguay.\")\n",
    "\t\tbreak\n",
    "\telse:\n",
    "\t\tprint(\"Contrasena incorrecta. Vuelve a intentar!\")\n",
    "\t"
   ],
   "id": "9f245eea451e2b8a"
  },
  {
   "metadata": {},
   "cell_type": "code",
   "outputs": [
    {
     "name": "stdout",
     "output_type": "stream",
     "text": [
      "['Carlos', 'Mateo', 'Edgar', 'Mauro', 'Jose', 'Edgar']\n",
      "['Carlos', 'Mateo', 'Edgar', 'Mauro', 'Jose', 'Edgar', 'Blas']\n",
      "['Carlos', 'Mateo', 'Mauro', 'Jose', 'Edgar', 'Blas']\n",
      "['Carlos', 'Mateo', 'Mauro', 'Edgar', 'Blas']\n",
      "5\n"
     ]
    }
   ],
   "execution_count": 61,
   "source": [
    "lista_frutas = ['pera', 'manzana', 'banana']\n",
    "\n",
    "# Diferentes tipos de datos:\n",
    "lista_bool = [True, False,True,True]\n",
    "lista_numeros = [3,455,21,755,23,7,7]\n",
    "\n",
    "# Metodos y Funciones de listas.\n",
    "lista_nombres = [\"Carlos\",'Mateo',\"Edgar\",\"Mauro\",'Jose','Edgar']\n",
    "print(lista_nombres)\n",
    "\n",
    "lista_nombres.append('Blas') # \"append()\" agrega un elemento al final de la lista.\n",
    "print(lista_nombres)\n",
    "\n",
    "lista_nombres.remove(\"Edgar\") # \"remove()\" elimina el primer elemento de la lista que coincida.\n",
    "print(lista_nombres)\n",
    "lista_nombres.pop(3) # \"pop()\" elimina el elemento en la posicion especificada por el indice.\n",
    "print(lista_nombres)\n",
    "\n",
    "print(len(lista_nombres)) # len() Contar elementos en la lista.\n"
   ],
   "id": "59404dd60baa0a9"
  },
  {
   "metadata": {},
   "cell_type": "code",
   "outputs": [
    {
     "name": "stdout",
     "output_type": "stream",
     "text": [
      "['Carlos', 'Mateo', 'Edgar', 'Mauro', 'Jose', 'Blas']\n",
      "['Carlos', 'Fernando', 'Edgar', 'Mauro', 'Jose', 'Blas']\n",
      "['Carlos', 'Fernando', 'Mauro', 'Jose', 'Blas']\n"
     ]
    }
   ],
   "execution_count": 67,
   "source": [
    "# Challenge (-20m): \n",
    "\n",
    "# Crear una lista de 5 elementos. Luego, seguir los siguientes pasos.\n",
    "# \n",
    "# Agregar un elemento al final de la lista.\n",
    "# \n",
    "# Modificar el segundo elemento.\n",
    "# \n",
    "# Eliminar el tercer elemento.\n",
    "\n",
    "lista_nombres = [\"Carlos\", 'Mateo', \"Edgar\", \"Mauro\", 'Jose', \"Blas\"]\n",
    "\n",
    "print(lista_nombres)\n",
    "\n",
    "lista_nombres[1] = \"Fernando\"\n",
    "print(lista_nombres)\n",
    "\n",
    "lista_nombres.pop(2)\n",
    "print(lista_nombres)\n"
   ],
   "id": "96f6827625cabeca"
  },
  {
   "metadata": {},
   "cell_type": "code",
   "outputs": [
    {
     "name": "stdout",
     "output_type": "stream",
     "text": [
      "dia: 1\n",
      "dia: 2\n",
      "dia: 3\n",
      "dia: 4\n",
      "dia: 5\n",
      "dia: 6\n",
      "dia: 7\n",
      "\n",
      "0\n",
      "1\n",
      "2\n",
      "3\n",
      "4\n"
     ]
    }
   ],
   "execution_count": 72,
   "source": [
    "# Bucle ITERADOR (es INFINITO, se repite un bloque de codigo hasta que termine. Siempre en la siguiente repeticion se recuerda y se usa el valor de esa repeticion anterior.): for.\n",
    "\n",
    "dias_de_la_semana = [1,2,3,4,5,6,7]\n",
    "\n",
    "for dia in dias_de_la_semana:\n",
    "\tprint(f'dia: {dia}')\n",
    "\t\n",
    "print(\"\")\n",
    "\n",
    "for i in range(5):\n",
    "\tprint(i)\n"
   ],
   "id": "d0a6b47db1be8dca"
  },
  {
   "metadata": {},
   "cell_type": "code",
   "outputs": [
    {
     "name": "stdout",
     "output_type": "stream",
     "text": [
      "0\n",
      "2\n",
      "4\n",
      "6\n",
      "8\n",
      "10\n",
      "12\n",
      "14\n",
      "16\n",
      "18\n",
      "20\n"
     ]
    }
   ],
   "execution_count": 91,
   "source": [
    "# Challenge (-20):\n",
    "\n",
    "# Escribir un programa que itere en un rango de 10 veces. Por cada iteracion multiplicar el iterador por dos e imprimir el resultado.\n",
    "\n",
    "for num in range(11):\n",
    "\tprint(num * 2)\n"
   ],
   "id": "80c32aca8a808c4d"
  },
  {
   "metadata": {},
   "cell_type": "code",
   "outputs": [
    {
     "name": "stdout",
     "output_type": "stream",
     "text": [
      "0\n",
      "Numero 1\n",
      "2\n",
      "Numero 2\n",
      "4\n",
      "Numero 3\n",
      "6\n",
      "Numero 4\n",
      "8\n",
      "Numero 5\n",
      "10\n",
      "Numero 6\n",
      "12\n",
      "Numero 7\n",
      "14\n",
      "Numero 8\n",
      "16\n",
      "Numero 9\n",
      "18\n",
      "Numero 10\n",
      "20\n"
     ]
    }
   ],
   "execution_count": 90,
   "source": [
    "# Otra forma:\n",
    "num = 0\n",
    "print(num)\n",
    "for num in range(1, 11):\n",
    "\tprint(\"Numero \" + str(num))\n",
    "\tprint(num * 2)"
   ],
   "id": "fb0ced9301a9bfe0"
  },
  {
   "metadata": {},
   "cell_type": "code",
   "outputs": [
    {
     "name": "stdout",
     "output_type": "stream",
     "text": [
      "mercedes\n",
      "toyota\n",
      "mitsubishi\n",
      "hyundai\n"
     ]
    }
   ],
   "execution_count": 96,
   "source": [
    "# Challenge (-20):\n",
    "\n",
    "# Recorrer los elementos de una lista de marcas e imprimir cada marca solamente si tiene 6 letras o más.\n",
    "\n",
    "marcas = [\"mercedes\", \"toyota\", \"mitsubishi\", \"hyundai\", \"BMW\", \"Kia\", \"Fiat\"]\n",
    "\n",
    "for marca in marcas:\n",
    "\tif len(marca) >= 6:\n",
    "\t\tprint(marca)\n"
   ],
   "id": "43aa22472d025f4a"
  },
  {
   "metadata": {},
   "cell_type": "code",
   "outputs": [
    {
     "ename": "SyntaxError",
     "evalue": "invalid syntax (2784711248.py, line 12)",
     "output_type": "error",
     "traceback": [
      "  \u001B[36mCell\u001B[39m\u001B[36m \u001B[39m\u001B[32mIn[101]\u001B[39m\u001B[32m, line 12\u001B[39m\n\u001B[31m    \u001B[39m\u001B[31mdef __init__(self.nombre): # Metodo constructor.\u001B[39m\n                     ^\n\u001B[31mSyntaxError\u001B[39m\u001B[31m:\u001B[39m invalid syntax\n"
     ]
    }
   ],
   "execution_count": 101,
   "source": [
    "# CONCEPTO.\n",
    "\n",
    "# Clases: una clase tiene un metodo constructor.\n",
    "## El metodo constructor asigna valores a los elementos de las clase cuando se crea un objeto de esa misma clase.\n",
    "### Dentro del metodo constructor estan los atributos de la instancia.\n",
    "\n",
    "# Ejemmplo:\n",
    "\n",
    "class Penguin:\n",
    "\tespecie = \"mamifero\" # atributo de clase.\n",
    "\t\n",
    "\tdef __init__(self.nombre): # Metodo constructor.\n",
    "\t\tself.nombre = nombre # atributo de instancia.\n",
    "\t\n",
    "\tdef dormir(self): # metodo de clase.\n",
    "\t\tprint(\"zzz\")\n",
    "\n",
    "pinguino = Penguin(\"Carlitos\") # instaciamos el objeto.\n",
    "\n",
    "# Herencia: es una relacion entre clases, es una clase que hereda los atributos y metodos de otra clase. Permite que una clase nueva use y modifique las propiedades y funciones de una clase existente, creando asi una relacion de \"padre\" e \"hijo\" entre las clases.\n",
    "\n",
    "class Pingu(Penguin): # Pingu hereda los atributos y metodos de la clase Penguin.\n",
    "\tdef nadar(self): # metodo\n",
    "\t\tprint(\"estoy nadando ...\")\n"
   ],
   "id": "834a7201102db93a"
  },
  {
   "metadata": {},
   "cell_type": "code",
   "outputs": [
    {
     "name": "stdout",
     "output_type": "stream",
     "text": [
      "Se encontro la letra o.\n",
      "Se encontro la letra o.\n",
      "Se encontro la letra o.\n",
      "No se encontro ninguna letra o.\n"
     ]
    }
   ],
   "execution_count": 110,
   "source": [
    "# Challenge (-15m):\n",
    "\n",
    "# Solicitar al usuario que ingrese una frase.\n",
    "# \n",
    "# Imprimir un mensaje cada vez que se encuentre una letra \"o\".\n",
    "\n",
    "frase = input(\"Escriba una frase: \")\n",
    "\n",
    "for letra in frase: # En Python, se puede acceder a cada caracter del string, como si fuera una lista, recorriendo por ejemplo en este caso con un for loop.\n",
    "\t# print(letra) # Solo practica.\n",
    "\tif letra.lower() == \"o\":\n",
    "\t# if letra == \"o\":\n",
    "\t\tprint(\"Se encontro la letra o.\")\n",
    "\telse:\n",
    "\t\tno_letras = True\n",
    "\n",
    "if no_letras:\n",
    "\tprint(\"No se encontro ninguna letra o.\")\n",
    "\t\t\n",
    "# print(frase[3]) # Solo practica.\n"
   ],
   "id": "c5045c6cfcddd63e"
  },
  {
   "metadata": {},
   "cell_type": "code",
   "outputs": [
    {
     "name": "stdout",
     "output_type": "stream",
     "text": [
      "Se encontro 4 letras o.\n",
      "None\n"
     ]
    }
   ],
   "execution_count": 111,
   "source": [
    "# Otra forma de hacer:\n",
    "\n",
    "frase = input(\"Escriba una frase: \")\n",
    "contador = 0\n",
    "\n",
    "for letra in frase: \n",
    "\tif letra.lower() == \"o\":\n",
    "\t\tcontador += 1\n",
    "\n",
    "if contador >= 1:\n",
    "\tprint(print(f\"Se encontro {contador} letras o.\"))\n",
    "else:\n",
    "\tprint(\"No se encontro ninguna letra o.\")\n"
   ],
   "id": "7a3a1d668e1e9c9d"
  }
 ],
 "metadata": {
  "kernelspec": {
   "display_name": "Python 3",
   "language": "python",
   "name": "python3"
  },
  "language_info": {
   "codemirror_mode": {
    "name": "ipython",
    "version": 2
   },
   "file_extension": ".py",
   "mimetype": "text/x-python",
   "name": "python",
   "nbconvert_exporter": "python",
   "pygments_lexer": "ipython2",
   "version": "2.7.6"
  }
 },
 "nbformat": 4,
 "nbformat_minor": 5
}

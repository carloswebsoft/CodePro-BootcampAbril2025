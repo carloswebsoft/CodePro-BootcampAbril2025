{
 "cells": [
  {
   "cell_type": "code",
   "id": "initial_id",
   "metadata": {
    "collapsed": true,
    "jupyter": {
     "is_executing": true
    }
   },
   "source": [
    "# Challenge (-10m):\n",
    "\n",
    "# Crea una funcion que imprima la variable palabra.\n",
    "\n",
    "def imprimir_var_palabra(palabra):\n",
    "    print(palabra)\n",
    "\n",
    "palabra = \"Hola\"\n",
    "imprimir_var_palabra(palabra)\n"
   ],
   "outputs": [],
   "execution_count": null
  },
  {
   "metadata": {
    "ExecuteTime": {
     "end_time": "2025-04-25T12:46:02.140171Z",
     "start_time": "2025-04-25T12:46:02.135252Z"
    }
   },
   "cell_type": "code",
   "source": [
    "def sumar_numeros(numero1, numero2):\n",
    "    suma = numero1 + numero2\n",
    "    print(suma)\n",
    "    \n",
    "sumar_numeros(1,2) \n",
    "# print(sumar_numeros(1,2)) # Esto no funciona, Python no imprimir una funcion \"print(function_call)\". \n"
   ],
   "id": "b8a84ff50a86f8a0",
   "outputs": [
    {
     "name": "stdout",
     "output_type": "stream",
     "text": [
      "3\n"
     ]
    }
   ],
   "execution_count": 7
  },
  {
   "metadata": {
    "ExecuteTime": {
     "end_time": "2025-04-25T13:09:52.519462Z",
     "start_time": "2025-04-25T13:09:49.689920Z"
    }
   },
   "cell_type": "code",
   "source": [
    "# Challenge (-20m):\n",
    "\n",
    "# Crear una función que reciba dos letras (parámetros) y que verifique si son iguales:\n",
    "\n",
    "# Si son iguales, imprimir \"Las letras son iguales\".\n",
    "# \n",
    "# De lo contrario, imprimir \"Las letras son diferentes\".\n",
    "\n",
    "def letras_iguales(letra1, letra2):\n",
    "    if letra1.lower() == letra2.lower():\n",
    "        print(F\"Las letras {letra1} y {letra2} son iguales.\")\n",
    "    else:\n",
    "        print(F\"Las letras {letra1} y {letra2} son diferentes.\")\n",
    "\n",
    "l1 = input(\"Ingrese una letra para comparar si son iguales: \")\n",
    "l2 = input(\"Ingrese otra letra para ver el resultado: \")\n",
    "letras_iguales(l1,l2)\n",
    "                "
   ],
   "id": "d245096a61366cd7",
   "outputs": [
    {
     "name": "stdout",
     "output_type": "stream",
     "text": [
      "Las letras g y d son diferentes.\n"
     ]
    }
   ],
   "execution_count": 14
  },
  {
   "metadata": {
    "ExecuteTime": {
     "end_time": "2025-04-25T14:01:03.566507Z",
     "start_time": "2025-04-25T14:01:03.561179Z"
    }
   },
   "cell_type": "code",
   "source": [
    "# Challenge (-20m):\n",
    "\n",
    "# Crear una función que reciba dos parámetros (una palabra y un número), y que retorne True si el número es igual a la cantidad de letras de la palabra. En caso contrario, que retorne False.\n",
    "# \n",
    "# Pista: cantidad de letras de una palabra en python\n",
    "\n",
    "\n",
    "\n",
    "def retornar_true(palabra, numero):\n",
    "    # if numero == len(palabra):\n",
    "    # if numero == len (palabra): # No importa que tenga 1 espacio entre funcion y ().\n",
    "    if numero == len   (palabra): # # No importa que tenga 2 espacios o mas, entre funcion y ().\n",
    "        return True\n",
    "    else:\n",
    "        return False\n",
    "    \n",
    "palabra = \"Jupiter\"\n",
    "numero = 5\n",
    "\n",
    "valor = retornar_true(palabra,numero)\n",
    "print(valor)\n"
   ],
   "id": "a560255524902730",
   "outputs": [
    {
     "name": "stdout",
     "output_type": "stream",
     "text": [
      "False\n"
     ]
    }
   ],
   "execution_count": 9
  },
  {
   "metadata": {
    "ExecuteTime": {
     "end_time": "2025-04-25T15:32:39.555205Z",
     "start_time": "2025-04-25T15:32:39.547129Z"
    }
   },
   "cell_type": "code",
   "source": "# Funcion: list() # Convierte un string en lista (lista de elementos).",
   "id": "c365836cc9a41755",
   "outputs": [],
   "execution_count": 22
  },
  {
   "metadata": {
    "ExecuteTime": {
     "end_time": "2025-04-25T15:56:45.492171Z",
     "start_time": "2025-04-25T15:56:38.995007Z"
    }
   },
   "cell_type": "code",
   "source": [
    "# Challenge ()\n",
    "\n",
    "# Pedir al usuario que ingrese 1 palabra, luego convertir esa palabra a una lista con sus caracteres con list(). Agregar esa lista de caracteres a una lista llamada palabras_ingresadas. Repetir el proceso 3 veces. Cada vez que se agregue una lista de caracteres, imprimir la lista palabras_ingresadas.\n",
    "# \n",
    "# \n",
    "# Ejemplo del resultado esperado:\n",
    "# \n",
    "# [['c', 'i', 'e', 'l', 'o']]\n",
    "#  # Al ingresar la primera palabra\n",
    "# \n",
    "# [['c', 'i', 'e', 'l', 'o'], ['c', 'a', 'l', 'o', 'r']]\n",
    "#  # Al ingresar la segunda palabra\n",
    "# \n",
    "# [['c', 'i', 'e', 'l', 'o'], ['c', 'a', 'l', 'o', 'r'], ['n', 'u', 'b', 'e', 's']]\n",
    "#  # Al ingresar la tercera palabra\n",
    "\n",
    "palabras_ingresadas = []\n",
    "for i in range(3):\n",
    "    palabra = input(\"Ingresar una palabra\")\n",
    "    caracteres_palabra = list(palabra)\n",
    "    palabras_ingresadas.append(caracteres_palabra)\n",
    "    print(palabras_ingresadas)\n"
   ],
   "id": "621a8bda6db48dca",
   "outputs": [
    {
     "name": "stdout",
     "output_type": "stream",
     "text": [
      "[['u', 'n', 'o']]\n",
      "[['u', 'n', 'o'], ['d', 'o', 's']]\n",
      "[['u', 'n', 'o'], ['d', 'o', 's'], ['t', 'r', 'e', 's']]\n"
     ]
    }
   ],
   "execution_count": 30
  },
  {
   "metadata": {
    "ExecuteTime": {
     "end_time": "2025-04-25T15:46:11.349450Z",
     "start_time": "2025-04-25T15:46:05.816333Z"
    }
   },
   "cell_type": "code",
   "source": [
    "# Otro tipo de ejercicio, por Carlos.\n",
    "# Imprimir por cada elemento, y no por \n",
    "\n",
    "lista = []\n",
    "for i in range(3):\n",
    "    palabra = input(\"Ingresar una palabra\")\n",
    "    palabras_ingresadas = list(palabra)\n",
    "\n",
    "    for letra in palabras_ingresadas:\n",
    "        lista.append(letra)\n",
    "\n",
    "    print(lista)\n"
   ],
   "id": "53797ac1950edfe2",
   "outputs": [
    {
     "name": "stdout",
     "output_type": "stream",
     "text": [
      "['u', 'n', 'o']\n",
      "['u', 'n', 'o', 'd', 'o', 's']\n",
      "['u', 'n', 'o', 'd', 'o', 's', 't', 'r', 'e', 's']\n"
     ]
    }
   ],
   "execution_count": 26
  },
  {
   "metadata": {
    "ExecuteTime": {
     "end_time": "2025-04-25T16:47:29.416478Z",
     "start_time": "2025-04-25T16:47:29.400114Z"
    }
   },
   "cell_type": "code",
   "source": [
    "# Juego - Solo practica de una seccion del programa:\n",
    "\n",
    "# Crear una funcion quue contenga dos parametros.\n",
    "\n",
    "# [] EXISTE la letra en la palabra y ESTA EN POSICION correcta.\n",
    "# {} EXISTE la letra en la palabra pero NO ESTA EN POSICION correcta.\n",
    "\n",
    "# def obtener_fila_verificada(palabra_a_encontrar, palabra_ingresada):\n",
    "#     # Segundo paso: definir la cantidad de letras de la palabra a encontrar.\n",
    "#     cantidad_de_letras_de_palabra_a_encontrar = 5\n",
    "# \n",
    "#     # Tercer paso: Crear una lista vacia para guardar las letras verificadas.\n",
    "#     letras_verificadas = []\n",
    "# \n",
    "#     # Cuarto paso: se recorre cada posicion de la palabra.\n",
    "#     for posicion in range(cantidad_de_letras_de_palabra_a_encontrar):\n",
    "#         # Quinto paso: comparar las letras en la misma posicion.\n",
    "#         las_letras_son_iguales = palabra_a_encontrar[posicion] == palabra_ingresada[posicion]\n",
    "# \n",
    "#         # Sexto paso: se verifica si la letra existe en la palabra.\n",
    "#         la_letra_existe_en_la_palabra = palabra_ingresada[posicion] in palabra_a_encontrar\n",
    "# \n",
    "#         if las_letras_son_iguales:\n",
    "#             letras_verificadas.append('[]')\n",
    "# \n",
    "#         if la_letra_existe_en_la_palabra:\n",
    "#             letras_verificadas.append(\"(\" + palabra_ingresada[posicion] + \")\")\n",
    "#         else:\n",
    "#             letras_verificadas.append(palabra_ingresada[posicion])\n",
    "#         \n",
    "#         return letras_verificadas\n",
    "# \n",
    "#         palabra_a_encontrar = \"huevo\"\n",
    "# \n",
    "#         palabra_ingresada = input(\"Ingrese la palabra de 5 letras: \")\n",
    "#         \n",
    "#         linea_verificada = obtener_fila_verificada(palabra_a_encontrar, palabra_ingresada)\n",
    "# \n",
    "#         print(linea_verificada)\n",
    "    "
   ],
   "id": "af1962408b69a6e0",
   "outputs": [],
   "execution_count": null
  },
  {
   "metadata": {
    "ExecuteTime": {
     "end_time": "2025-04-25T16:54:23.841441Z",
     "start_time": "2025-04-25T16:54:23.835221Z"
    }
   },
   "cell_type": "code",
   "source": [
    "# Challenge (-25m):\n",
    "\n",
    "# Dada la lista de ejemplo: \n",
    "# \n",
    "# lista = [['h', 'o', 'l', 'i', 's'], ['h', 'e', 'l', 'l', 'o'], ['h', 'a', 'l', 'l', 'o']]\n",
    "# \n",
    "# Crear una función que imprima una grilla (lista de listas), una línea por cada lista dentro de la lista principal.\n",
    "# \n",
    "# Ejemplo del resultado esperado:\n",
    "# \n",
    "# ['h', 'o', 'l', 'i', 's']\n",
    "# ['h', 'e', 'l', 'l', 'o']\n",
    "# ['h', 'a', 'l', 'l', 'o']\n",
    "\n",
    "lista = [['h', 'o', 'l', 'i', 's'], ['h', 'e', 'l', 'l', 'o'], ['h', 'a', 'l', 'l', 'o']]\n",
    "\n",
    "def imprimir_grilla(lista):\n",
    "    for l in lista:\n",
    "        print(l)\n",
    "        \n",
    "imprimir_grilla(lista)\n",
    "\n"
   ],
   "id": "985923490c8c250c",
   "outputs": [
    {
     "name": "stdout",
     "output_type": "stream",
     "text": [
      "['h', 'o', 'l', 'i', 's']\n",
      "['h', 'e', 'l', 'l', 'o']\n",
      "['h', 'a', 'l', 'l', 'o']\n"
     ]
    }
   ],
   "execution_count": 3
  },
  {
   "metadata": {
    "ExecuteTime": {
     "end_time": "2025-04-25T17:21:55.777548Z",
     "start_time": "2025-04-25T17:21:47.146581Z"
    }
   },
   "cell_type": "code",
   "source": [
    "intentos = 3\n",
    "\n",
    "while intentos > 0:\n",
    "    print(f'Te quedan {intentos} intentos')\n",
    "    palabra = input('Ingrese la palabra')\n",
    "    intentos -= 1\n",
    "    \n",
    "print('Te quedaste sin intentos')\n"
   ],
   "id": "3becbbdb14124537",
   "outputs": [
    {
     "name": "stdout",
     "output_type": "stream",
     "text": [
      "Te quedan 3 intentos\n",
      "Te quedan 2 intentos\n",
      "Te quedan 1 intentos\n",
      "Te quedaste sin intentos\n"
     ]
    }
   ],
   "execution_count": 4
  },
  {
   "metadata": {
    "ExecuteTime": {
     "end_time": "2025-04-25T20:10:30.614749Z",
     "start_time": "2025-04-25T20:10:27.780055Z"
    }
   },
   "cell_type": "code",
   "source": [
    "# PROYECTO GRUPAL.\n",
    "\n",
    "# CREAR grilla vacia (lista para mostrar el progreso del juugador)\n",
    "def imprimir_grilla(lista):\n",
    "    var = \"\"\n",
    "    for l in lista:\n",
    "        var += l + \"-\"  \n",
    "        \n",
    "    print(var)\n",
    "\n",
    "def obtener_fila_verificada(palabra_a_encontrar, palabra_ingresada):\n",
    "    # Segundo paso: definir la cantidad de letras de la palabra a encontrar.\n",
    "    cantidad_de_letras_de_palabra_a_encontrar = 5\n",
    "\n",
    "    # Tercer paso: Crear una lista vacia para guardar las letras verificadas.\n",
    "    letras_verificadas = []\n",
    "\n",
    "    # Cuarto paso: se recorre cada posicion de la palabra.\n",
    "    for posicion in range(cantidad_de_letras_de_palabra_a_encontrar):\n",
    "        # Quinto paso: comparar las letras en la misma posicion.\n",
    "        las_letras_son_iguales = palabra_a_encontrar[posicion] == palabra_ingresada\n",
    "\n",
    "        # Sexto paso: se verifica si la letra existe en la palabra.\n",
    "        la_letra_existe_en_la_palabra = palabra_ingresada[posicion] in palabra_a_encontrar\n",
    "\n",
    "        if las_letras_son_iguales:\n",
    "            letras_verificadas.append(\"[\" + palabra_ingresada[posicion] + \"]\")\n",
    "        elif la_letra_existe_en_la_palabra:\n",
    "            letras_verificadas.append(\"(\" + palabra_ingresada[posicion] + \")\")\n",
    "        else:\n",
    "            letras_verificadas.append(palabra_ingresada[posicion])\n",
    "        \n",
    "    return letras_verificadas\n",
    "\n",
    "\n",
    "# INICIAR juego\n",
    "\n",
    "print(\"Iniciar Juego\")\n",
    "lista_palabras_a_encontrar = ['holaa','bebax','sillat','cuero','tijer']\n",
    "\n",
    "# DEFINIR palabra_a_encontrar\n",
    "palabra_a_encontrar = lista_palabras_a_encontrar[3]\n",
    "\n",
    "# DEFINIR intentos\n",
    "intentos = 3\n",
    "print(\"Tenes 3 intentos. Proba: \")\n",
    "while intentos > 0:\n",
    "    intentos -= 1\n",
    "    palabra_ingresada = input('Ingrese la palabra a encontrar')\n",
    "    # palabra_formato_lista = list(palabra)\n",
    "    \n",
    "    # Si se acerto la palabra.\n",
    "    if palabra_a_encontrar == palabra_ingresada:\n",
    "        var = \"\"\n",
    "        for l in palabra_ingresada:\n",
    "            var += \"[\" + l + \"]\"\n",
    "            \n",
    "        print(var)\n",
    "        print(\"Ganaste!\")\n",
    "        break\n",
    "        \n",
    "    valor = obtener_fila_verificada(palabra_a_encontrar, palabra_ingresada)\n",
    "    \n",
    "    imprimir_grilla(valor)\n",
    "    \n",
    "    print(f'Te quedan {intentos} intentos')\n",
    " \n",
    "else:\n",
    "    print(f'Te quedaste sin intentos. La palabra del juego a encontrar era: {palabra_a_encontrar}')\n",
    "\n",
    "# MOSTRAR mensaje de bienvenida\n",
    "\n",
    "\n",
    "\n",
    "\n"
   ],
   "id": "ae53e27fc29c4fa6",
   "outputs": [
    {
     "name": "stdout",
     "output_type": "stream",
     "text": [
      "Iniciar Juego\n",
      "Tenes 3 intentos. Proba: \n",
      "Que es estoooooooo [c][u][e][r][o]\n",
      "Ganaste!\n"
     ]
    }
   ],
   "execution_count": 49
  },
  {
   "metadata": {
    "ExecuteTime": {
     "end_time": "2025-04-25T18:42:43.968742Z",
     "start_time": "2025-04-25T18:42:43.965092Z"
    }
   },
   "cell_type": "code",
   "source": "\n",
   "id": "8e917578c7670b16",
   "outputs": [],
   "execution_count": 11
  },
  {
   "metadata": {},
   "cell_type": "code",
   "outputs": [],
   "execution_count": null,
   "source": "",
   "id": "f1c0ca538cc68d46"
  }
 ],
 "metadata": {
  "kernelspec": {
   "display_name": "Python 3",
   "language": "python",
   "name": "python3"
  },
  "language_info": {
   "codemirror_mode": {
    "name": "ipython",
    "version": 2
   },
   "file_extension": ".py",
   "mimetype": "text/x-python",
   "name": "python",
   "nbconvert_exporter": "python",
   "pygments_lexer": "ipython2",
   "version": "2.7.6"
  }
 },
 "nbformat": 4,
 "nbformat_minor": 5
}

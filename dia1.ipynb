{
 "cells": [
  {
   "cell_type": "code",
   "execution_count": 1,
   "id": "initial_id",
   "metadata": {
    "ExecuteTime": {
     "end_time": "2025-04-23T13:54:03.625843Z",
     "start_time": "2025-04-23T13:54:03.607846Z"
    },
    "collapsed": true,
    "jupyter": {
     "outputs_hidden": true
    }
   },
   "outputs": [
    {
     "name": "stdout",
     "output_type": "stream",
     "text": [
      "Hola Mundo\n"
     ]
    }
   ],
   "source": [
    "print(\"Hola Mundo\")"
   ]
  },
  {
   "cell_type": "code",
   "id": "4d41b205b951951c",
   "metadata": {
    "ExecuteTime": {
     "end_time": "2025-04-23T14:08:59.032836Z",
     "start_time": "2025-04-23T14:08:59.021618Z"
    }
   },
   "source": [
    "frutas = \"naranja\", \"pera\" # Crea una tupla.\n",
    "frutas2 = [\"naranja\", \"pera\"]"
   ],
   "outputs": [],
   "execution_count": 7
  },
  {
   "metadata": {
    "ExecuteTime": {
     "end_time": "2025-04-23T14:08:59.679649Z",
     "start_time": "2025-04-23T14:08:59.662305Z"
    }
   },
   "cell_type": "code",
   "source": [
    "print(frutas)\n",
    "print(frutas2)"
   ],
   "id": "c6558cc954726651",
   "outputs": [
    {
     "name": "stdout",
     "output_type": "stream",
     "text": [
      "('naranja', 'pera')\n",
      "['naranja', 'pera']\n"
     ]
    }
   ],
   "execution_count": 8
  },
  {
   "metadata": {
    "ExecuteTime": {
     "end_time": "2025-04-23T14:27:13.470216Z",
     "start_time": "2025-04-23T14:27:13.456202Z"
    }
   },
   "cell_type": "code",
   "source": [
    "nombre = \"'Carlos' \" # El espacio al final esta almacenado.\n",
    "print(nombre)"
   ],
   "id": "8e78af0f167f6b6f",
   "outputs": [
    {
     "name": "stdout",
     "output_type": "stream",
     "text": [
      "'Carlos' \n"
     ]
    }
   ],
   "execution_count": 10
  },
  {
   "metadata": {
    "ExecuteTime": {
     "end_time": "2025-04-23T17:56:27.926176Z",
     "start_time": "2025-04-23T17:56:27.914169Z"
    }
   },
   "cell_type": "code",
   "source": [
    "# Challenge (-20m):\n",
    "# \n",
    "# Suma: asignar dos números en dos variables diferentes cantidad_de_manzanas y cantidad_de_naranjas. Luego sumar ambas variables en cantidad_de_frutas. Imprimir la última variable.\n",
    "# \n",
    "# Resta: asignar un valor numérico a la variable frutas_vendidas. Luego, asignar la resta entre cantidad_de_frutas y frutas_vendidas a la variable frutas_restantes. Imprimir la última variable.\n",
    "\n",
    "cantidad_de_manzanas = 10\n",
    "cantidad_de_naranjas = 5\n",
    "cantidad_de_frutas = cantidad_de_manzanas + cantidad_de_naranjas\n",
    "print(cantidad_de_frutas)\n",
    "frutas_vendidas = 8\n",
    "cantidad_restantes = cantidad_de_frutas - frutas_vendidas\n",
    "print(cantidad_restantes)"
   ],
   "id": "c396e0051a2654e5",
   "outputs": [
    {
     "name": "stdout",
     "output_type": "stream",
     "text": [
      "15\n",
      "7\n"
     ]
    }
   ],
   "execution_count": 61
  },
  {
   "metadata": {
    "ExecuteTime": {
     "end_time": "2025-04-23T16:59:34.569968Z",
     "start_time": "2025-04-23T16:59:34.556964Z"
    }
   },
   "cell_type": "code",
   "source": "# print(f\" {} \") Llamado: Formatted string literals, f-strings, o en espanol \"format\".",
   "id": "8f0a140ef82241c0",
   "outputs": [],
   "execution_count": 21
  },
  {
   "metadata": {
    "ExecuteTime": {
     "end_time": "2025-04-23T17:55:50.374380Z",
     "start_time": "2025-04-23T17:55:50.363074Z"
    }
   },
   "cell_type": "code",
   "source": [
    "# Challenge (-15m)\n",
    "# \n",
    "# Asignar el nombre y el apellido de tu compañera/o a las variables nombre y apellido. Luego, imprimir una frase, utilizando las variables.\n",
    "# EJEMPLO: \"Hola. Me llamo Claudia Melgarejo. Mucho gusto.\"\n",
    "\n",
    "# 3 Formas de concatenar e imprimir.\n",
    "\n",
    "nombre = \"José\"\n",
    "apellido = \"Espínola\"\n",
    "print(f\"Hola. Me llamo {nombre} {apellido}. Mucho gusto.\")\n",
    "\n",
    "# OTRA FORMA:\n",
    "\n",
    "nombre_completo = nombre + \" \" + apellido\n",
    "print(\"Hola. Me llamo\",nombre_completo,\". Mucho gusto.\") # no se puede sacar el espacio despues de una coma SEPARADORA.\n",
    "print(\"Hola. Me llamo\",nombre_completo + \". Mucho gusto.\")\n",
    "\n",
    "# OTRA FORMA:\n",
    "print(\"Hola. Me llamo \" + nombre + \" \" + apellido + \". Mucho gusto.\")\n",
    "print(\"Hola. Me llamo\",nombre_completo + \". Mucho gusto.\")\n"
   ],
   "id": "34f60d764338c44c",
   "outputs": [
    {
     "name": "stdout",
     "output_type": "stream",
     "text": [
      "Hola. Me llamo José Espínola. Mucho gusto.\n",
      "Hola. Me llamo José Espínola . Mucho gusto.\n",
      "Hola. Me llamo José Espínola. Mucho gusto.\n",
      "Hola. Me llamo José Espínola. Mucho gusto.\n",
      "Hola. Me llamo José Espínola. Mucho gusto.\n"
     ]
    }
   ],
   "execution_count": 60
  },
  {
   "metadata": {
    "ExecuteTime": {
     "end_time": "2025-04-23T17:43:10.123166Z",
     "start_time": "2025-04-23T17:43:06.239905Z"
    }
   },
   "cell_type": "code",
   "source": [
    "numero1 = int(input(\"dame un numero\"))\n",
    "numero2 = input(\"dame un numero\")\n",
    "print(type(numero1))\n",
    "print(type(numero2))\n",
    "suma = numero1 + int(numero2)\n",
    "print(suma)"
   ],
   "id": "eabf403ddc0ad69b",
   "outputs": [
    {
     "name": "stdout",
     "output_type": "stream",
     "text": [
      "<class 'int'>\n",
      "<class 'str'>\n",
      "7\n"
     ]
    }
   ],
   "execution_count": 53
  },
  {
   "metadata": {
    "ExecuteTime": {
     "end_time": "2025-04-23T17:57:12.440916Z",
     "start_time": "2025-04-23T17:57:10.593307Z"
    }
   },
   "cell_type": "code",
   "source": [
    "# Chanllenge (-10m):\n",
    "\n",
    "# Solicitar al usuario ingresar dos números y almacenarlos en dos variables. Luego, imprimir la suma de los dos números.\n",
    "\n",
    "num1 = input(\"Ingresar un número: \")\n",
    "num2 = input(\"Ingresar otro número: \")\n",
    "\n",
    "suma = int(num1) + int(num2)\n",
    "print(f\"La suma de los dos números es: {suma}.\")\n"
   ],
   "id": "274e851ddcc9a2d3",
   "outputs": [
    {
     "name": "stdout",
     "output_type": "stream",
     "text": [
      "La suma de los dos números es: 8.\n"
     ]
    }
   ],
   "execution_count": 62
  },
  {
   "metadata": {
    "ExecuteTime": {
     "end_time": "2025-04-23T18:43:54.983204Z",
     "start_time": "2025-04-23T18:43:54.971983Z"
    }
   },
   "cell_type": "code",
   "source": [
    "# Funcion:\n",
    "\n",
    "def preparar_sandwich():\n",
    "    print(\"Abrir el pan.\")\n",
    "    print(\"Agregar jamon.\")\n",
    "    print(\"Agregar queso.\")\n",
    "    print(\"Cerrar pan.\")\n",
    "    print(\"Listo!\")\n",
    "    \n",
    "preparar_sandwich()\n"
   ],
   "id": "ec5aa47fd3e41afb",
   "outputs": [
    {
     "name": "stdout",
     "output_type": "stream",
     "text": [
      "Abrir el pan.\n",
      "Agregar jamon.\n",
      "Agregar queso.\n",
      "Cerrar pan.\n",
      "Listo!\n"
     ]
    }
   ],
   "execution_count": 64
  },
  {
   "metadata": {
    "ExecuteTime": {
     "end_time": "2025-04-23T19:21:05.764947Z",
     "start_time": "2025-04-23T19:21:05.756247Z"
    }
   },
   "cell_type": "code",
   "source": [
    "# Challenge (-10m):\n",
    "\n",
    "# Crear una función de un proceso que se les ocurra que tenga varios pasos.\n",
    "# Ejecutar la función 3 veces.\n",
    "\n",
    "# def proceso_lavarropas():\n",
    "def proceso_lavarropas (): # Este espacio entre nombre funcion y () no da un problema.\n",
    "    print(\"Colocar jabon.\")\n",
    "    print(\"Abrir puerta.\")\n",
    "    print(\"Meter ropas.\")\n",
    "    print(\"Cerrar puerta.\")\n",
    "    print(\"Encender con velocidad.\")\n",
    "    print(\"Sacar ropa.\")\n",
    "    print(\"\")\n",
    "    print() # Este print da una linea en blanco.\n",
    "    print(\"ROPAS LIMPIAS!!\")\n",
    "print(\"hola\") # esto no es error, ya no es parte de la funcion.\n",
    "\n",
    "proceso_lavarropas()\n",
    "proceso_lavarropas()\n",
    "proceso_lavarropas()"
   ],
   "id": "fe5f51f5ac219662",
   "outputs": [
    {
     "name": "stdout",
     "output_type": "stream",
     "text": [
      "hola\n",
      "Colocar jabon.\n",
      "Abrir puerta.\n",
      "Meter ropas.\n",
      "Cerrar puerta.\n",
      "Encender con velocidad.\n",
      "Sacar ropa.\n",
      "\n",
      "\n",
      "ROPAS LIMPIAS!!\n",
      "Colocar jabon.\n",
      "Abrir puerta.\n",
      "Meter ropas.\n",
      "Cerrar puerta.\n",
      "Encender con velocidad.\n",
      "Sacar ropa.\n",
      "\n",
      "\n",
      "ROPAS LIMPIAS!!\n",
      "Colocar jabon.\n",
      "Abrir puerta.\n",
      "Meter ropas.\n",
      "Cerrar puerta.\n",
      "Encender con velocidad.\n",
      "Sacar ropa.\n",
      "\n",
      "\n",
      "ROPAS LIMPIAS!!\n"
     ]
    }
   ],
   "execution_count": 77
  },
  {
   "metadata": {
    "ExecuteTime": {
     "end_time": "2025-04-23T20:31:58.226798Z",
     "start_time": "2025-04-23T20:31:51.515920Z"
    }
   },
   "cell_type": "code",
   "source": [
    "# Challenge ():\n",
    "\n",
    "# Escribir una funcion que nos pregunte las caracteriticas de un elemento a comprar e imprima el elemento con sus caracteristicas.\n",
    "\n",
    "# TAREA Mejorar este programa.\n",
    "\n",
    "def comprar_auto(bateria_tipo, color, tipo_combustible):\n",
    "    print(f\"El auto que quiero comprar tiene una bateria de {bateria_tipo}\"\n",
    "          f\" Amperios-hora (Ah). Es de color {color}, y se mueve con con {tipo_combustible}\")\n",
    "     \n",
    "print(\"Quiero comprar un auto con las siguientes caracteristicas: \")\n",
    "bateria_tipo = input(\"Capacidad de la bateria en Amperios-hora (Ah): \")\n",
    "color = input(\"Color: \")\n",
    "tipo_combustible = input(\"Tipo de Combustible (Diesel o Nafta): \")\n",
    "\n",
    "comprar_auto(bateria_tipo, color, tipo_combustible)\n",
    "# comprar_auto = (80, 'azul', \"diesel\") # Otra forma.\n"
   ],
   "id": "c9613fac0d7976b1",
   "outputs": [
    {
     "name": "stdout",
     "output_type": "stream",
     "text": [
      "Quiero comprar un auto con las siguientes caracteristicas: \n",
      "El auto que quiero comprar tiene una bateria de 80 Amperios-hora (Ah). Es de color azul, y se mueve con con diesel\n"
     ]
    }
   ],
   "execution_count": 89
  },
  {
   "metadata": {
    "ExecuteTime": {
     "end_time": "2025-04-23T20:41:03.387107Z",
     "start_time": "2025-04-23T20:41:03.381104Z"
    }
   },
   "cell_type": "code",
   "source": [
    "# Alcance de Variables: local (usar solo dentro de la funcion) y global (usar en todito el programa).\n",
    "\n",
    "# Tarea practicar."
   ],
   "id": "e8f705d13d0fab",
   "outputs": [],
   "execution_count": 90
  },
  {
   "metadata": {},
   "cell_type": "code",
   "outputs": [],
   "execution_count": null,
   "source": "",
   "id": "b2751453995932ff"
  }
 ],
 "metadata": {
  "kernelspec": {
   "display_name": "Python 3 (ipykernel)",
   "language": "python",
   "name": "python3"
  },
  "language_info": {
   "codemirror_mode": {
    "name": "ipython",
    "version": 3
   },
   "file_extension": ".py",
   "mimetype": "text/x-python",
   "name": "python",
   "nbconvert_exporter": "python",
   "pygments_lexer": "ipython3",
   "version": "3.10.6"
  }
 },
 "nbformat": 4,
 "nbformat_minor": 5
}
